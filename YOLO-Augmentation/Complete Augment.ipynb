{
 "cells": [
  {
   "cell_type": "markdown",
   "metadata": {},
   "source": [
    "# Define Directory (Source, Converted and Result)"
   ]
  },
  {
   "cell_type": "code",
   "execution_count": 35,
   "metadata": {},
   "outputs": [],
   "source": [
    "import shutil\n",
    "import  random\n",
    "from data_aug.data_aug import *\n",
    "from data_aug.bbox_util import *\n",
    "import numpy as np \n",
    "import cv2 \n",
    "import matplotlib.pyplot as plt\n",
    "import scipy.misc\n",
    "from tqdm import tqdm\n",
    "\n",
    "#Define source data\n",
    "src_img_dir = 'D:\\Project\\Machine Learning\\Projects\\CV/Ultralitycs\\yolov3-master\\dataset_awal/images'\n",
    "src_label_dir = 'D:\\Project\\Machine Learning\\Projects\\CV/Ultralitycs\\yolov3-master\\dataset_awal/label'\n",
    "\n",
    "#main directory to replicate data\n",
    "main_dir = 'D:\\Project\\Machine Learning\\Projects\\CV/Ultralitycs\\yolov3-master'\n",
    "label_dir = main_dir + '/replicate/labels'\n",
    "img_dir = main_dir + '/replicate/images'\n",
    "bbox_dir = main_dir + '/replicate/labels2'\n",
    "\n",
    "#result directory\n",
    "return_dir = 'D:\\Project\\Machine Learning\\Projects\\CV/Ultralitycs\\yolov3-master'\n",
    "dest_img_dir = return_dir + '/aug_result/images'\n",
    "dest_label_dir = return_dir + '/aug_result/label'"
   ]
  },
  {
   "cell_type": "markdown",
   "metadata": {},
   "source": [
    "# Create Directory"
   ]
  },
  {
   "cell_type": "code",
   "execution_count": 40,
   "metadata": {},
   "outputs": [],
   "source": [
    "def create_dir(label_dir, img_dir, bbox_dir, dest_img_dir, dest_label_dir):\n",
    "    list_dir = list([label_dir, img_dir, bbox_dir, dest_img_dir, dest_label_dir])\n",
    "    for i in list_dir:\n",
    "        if not os.path.exists(i):\n",
    "            os.makedirs(i)\n",
    "            \n",
    "create_dir(label_dir, img_dir, bbox_dir, dest_img_dir, dest_label_dir)"
   ]
  },
  {
   "cell_type": "markdown",
   "metadata": {},
   "source": [
    "# Copy Random non-reapeated Image from Source"
   ]
  },
  {
   "cell_type": "code",
   "execution_count": 41,
   "metadata": {},
   "outputs": [],
   "source": [
    "# number of data to be copied from source\n",
    "n_data = 500\n",
    "# number of agmentation result from 1 data (include original one)\n",
    "n_augment = 5\n",
    "#range of rescale\n",
    "range_scaling = (-0.8, 0.4)\n",
    "\n",
    "files = os.listdir(src_img_dir)\n",
    "files = [i for i in files if i.split('.')[1] == 'jpg']\n",
    "idx = []\n",
    "for i in range(n_data):\n",
    "    r = random.randint(0,len(files)-1)\n",
    "    if r not in idx: idx.append(r)\n",
    "        \n",
    "for ids in idx:\n",
    "    shutil.copy(src_img_dir+ '/'+ files[ids], img_dir)\n",
    "    shutil.copy(src_label_dir+ '/'+ files[ids].split('.')[0] + '.txt', label_dir)"
   ]
  },
  {
   "cell_type": "markdown",
   "metadata": {},
   "source": [
    "# Create YOLO to BBOX Converter"
   ]
  },
  {
   "cell_type": "code",
   "execution_count": 42,
   "metadata": {},
   "outputs": [],
   "source": [
    "import os\n",
    "from PIL import Image\n",
    "\n",
    "def convert_yolo_to_bbox(data, image_shape):\n",
    "    \n",
    "    c, center_x, center_y, width, height = data\n",
    "\n",
    "    denorm_width = width * image_shape[0]\n",
    "    denorm_height = height * image_shape[1]\n",
    "    x1, x2 = center_x * image_shape[0] - denorm_width/2 , center_x * image_shape[0] + denorm_width/2\n",
    "    y1, y2 = center_y * image_shape[1] - denorm_height/2, center_y * image_shape[1] + denorm_height/2\n",
    "\n",
    "    new_data = list([round(x1,2), round(y1,2), round(x2,2), round(y2,2), int(c)])\n",
    "    \n",
    "    return new_data"
   ]
  },
  {
   "cell_type": "markdown",
   "metadata": {},
   "source": [
    "# Create BBOX to YOLO Converter"
   ]
  },
  {
   "cell_type": "code",
   "execution_count": 43,
   "metadata": {},
   "outputs": [],
   "source": [
    "def convert_bbox_to_yolo(bbox):\n",
    "    \n",
    "    #convert bbox format to yolo (normalization with image shape)\n",
    "    bboxes_ = bbox[0]\n",
    "    x_center_norm = (bboxes_[0]+(bboxes_[2]-bboxes_[0])/2)/img_.shape[1]\n",
    "    y_center_norm = (bboxes_[1]+(bboxes_[3]-bboxes_[1])/2)/img_.shape[0]\n",
    "    width_norm = (bboxes_[2]-bboxes_[0])/img_.shape[1]\n",
    "    height_norm = (bboxes_[3]-bboxes_[1])/img_.shape[0]\n",
    "    obj_class = bboxes_[-1]\n",
    "    \n",
    "    #create list as yolo format and return as string\n",
    "    yolo_list = list([int(obj_class),round(x_center_norm, 2), round(y_center_norm, 2), round(width_norm, 2), round(height_norm,2)])\n",
    "    yolo_list = [str(i) for i in yolo_list]\n",
    "    str_yolo = str(yolo_list[0]+ ' ' + yolo_list[1] + ' ' + yolo_list[2] + ' ' + yolo_list[3] + ' ' + yolo_list[4])\n",
    "    return str_yolo"
   ]
  },
  {
   "cell_type": "markdown",
   "metadata": {},
   "source": [
    "# Create New BBOX label file"
   ]
  },
  {
   "cell_type": "code",
   "execution_count": 44,
   "metadata": {},
   "outputs": [],
   "source": [
    "for file in os.listdir(label_dir):\n",
    "    image = Image.open(img_dir+'\\\\'+file.split('.txt')[0]+'.jpg')\n",
    "    img_size = image.size\n",
    "    \n",
    "    content = open(label_dir+'//'+file, 'r').read().split()\n",
    "    float_a = [float(i) for i in content]\n",
    "    new_data = convert_yolo_to_bbox(float_a, img_size)\n",
    "    string = [str(i) for i in new_data]\n",
    "    string = str(string[0]+' '+string[1]+' '+string[2]+' '+string[3]+' '+string[4])\n",
    "    f = open(bbox_dir+'\\\\'+file, \"w\")\n",
    "    f.write(string)\n",
    "    f.close()"
   ]
  },
  {
   "cell_type": "markdown",
   "metadata": {},
   "source": [
    "# Do Augmentation and Store to Result Directory"
   ]
  },
  {
   "cell_type": "code",
   "execution_count": 45,
   "metadata": {},
   "outputs": [
    {
     "name": "stderr",
     "output_type": "stream",
     "text": [
      "D:\\Users\\p61111684\\AppData\\Local\\Continuum\\miniconda3\\envs\\jcop\\lib\\site-packages\\ipykernel_launcher.py:14: DeprecationWarning: `imsave` is deprecated!\n",
      "`imsave` is deprecated in SciPy 1.0.0, and will be removed in 1.2.0.\n",
      "Use ``imageio.imwrite`` instead.\n",
      "  \n",
      "D:\\Users\\p61111684\\AppData\\Local\\Continuum\\miniconda3\\envs\\jcop\\lib\\site-packages\\ipykernel_launcher.py:28: DeprecationWarning: `imsave` is deprecated!\n",
      "`imsave` is deprecated in SciPy 1.0.0, and will be removed in 1.2.0.\n",
      "Use ``imageio.imwrite`` instead.\n"
     ]
    }
   ],
   "source": [
    "for file in os.listdir(img_dir):\n",
    "    for i in range(n_augment):\n",
    "        try:\n",
    "            file_name = file.split('.jpg')[0]        \n",
    "            img = cv2.imread(img_dir + '/' + file)[:,:,::-1]\n",
    "\n",
    "            #opencv loads images in bgr. the [:,:,::-1] does bgr -> rgb\n",
    "            bboxes = open(bbox_dir + '/' + file_name + '.txt', 'r').read().split()\n",
    "            bboxes = np.array([[float(i) if x <= 3 else int(i) for x,i in enumerate(bboxes) ]])\n",
    "\n",
    "            if i == 0:\n",
    "                scipy.misc.imsave(dest_img_dir + '/' + file_name + '.jpg', img)\n",
    "                f = open(dest_label_dir + '/' + file_name + '.txt', \"w\")\n",
    "                str_yolo = convert_bbox_to_yolo(bboxes)\n",
    "                f.write(str_yolo)\n",
    "                f.close()\n",
    "                continue\n",
    "            \n",
    "            #augment the images\n",
    "            seq = Sequence([RandomHSV(40, 40, 30),RandomHorizontalFlip(), RandomScale(scale = range_scaling), RandomTranslate(0.15), RandomRotate(10), RandomShear()])\n",
    "            img_, bboxes_ = seq(img.copy(), bboxes.copy())\n",
    "\n",
    "            #return to yolo format\n",
    "            str_yolo = convert_bbox_to_yolo(bboxes_)\n",
    "\n",
    "            #save augmented result (image and labels)\n",
    "            scipy.misc.imsave(dest_img_dir + '/' + file_name + '_'+ str(i) +'.jpg', img_)\n",
    "            f = open(dest_label_dir + '/' + file_name + '_' + str(i) +'.txt', \"w\")\n",
    "            f.write(str_yolo)\n",
    "            f.close()\n",
    "        \n",
    "        except:\n",
    "            pass"
   ]
  },
  {
   "cell_type": "code",
   "execution_count": null,
   "metadata": {},
   "outputs": [],
   "source": []
  }
 ],
 "metadata": {
  "kernelspec": {
   "display_name": "Python [conda env:jcop]",
   "language": "python",
   "name": "conda-env-jcop-py"
  },
  "language_info": {
   "codemirror_mode": {
    "name": "ipython",
    "version": 3
   },
   "file_extension": ".py",
   "mimetype": "text/x-python",
   "name": "python",
   "nbconvert_exporter": "python",
   "pygments_lexer": "ipython3",
   "version": "3.6.7"
  }
 },
 "nbformat": 4,
 "nbformat_minor": 4
}

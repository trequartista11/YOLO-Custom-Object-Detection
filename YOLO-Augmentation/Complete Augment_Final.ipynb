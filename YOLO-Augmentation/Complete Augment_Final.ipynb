{
 "cells": [
  {
   "cell_type": "markdown",
   "metadata": {},
   "source": [
    "# Define Directory (Source, Converted and Result)"
   ]
  },
  {
   "cell_type": "code",
   "execution_count": 1,
   "metadata": {},
   "outputs": [],
   "source": [
    "import shutil\n",
    "import  random\n",
    "from data_aug.data_aug import *\n",
    "from data_aug.bbox_util import *\n",
    "import numpy as np \n",
    "import cv2 \n",
    "import matplotlib.pyplot as plt\n",
    "import scipy.misc\n",
    "from tqdm import tqdm\n",
    "\n",
    "#Define source data\n",
    "src_img_dir = 'D:\\Project\\Machine Learning\\Projects\\CV/Ultralitycs\\yolov3-master\\dataset_awal/resource_img'\n",
    "src_label_dir = 'D:\\Project\\Machine Learning\\Projects\\CV/Ultralitycs\\yolov3-master\\dataset_awal/resource_label'\n",
    "\n",
    "#main directory to replicate data\n",
    "main_dir = 'D:\\Project\\Machine Learning\\Projects\\CV/Ultralitycs\\yolov3-master'\n",
    "label_dir = main_dir + '/replicate/labels'\n",
    "img_dir = main_dir + '/replicate/images'\n",
    "bbox_dir = main_dir + '/replicate/labels2'\n",
    "\n",
    "#result directory\n",
    "return_dir = 'D:\\Project\\Machine Learning\\Projects\\CV/Ultralitycs\\yolov3-master'\n",
    "dest_img_dir = return_dir + '/aug_result/images'\n",
    "dest_label_dir = return_dir + '/aug_result/labels'"
   ]
  },
  {
   "cell_type": "markdown",
   "metadata": {},
   "source": [
    "# Create Directory"
   ]
  },
  {
   "cell_type": "code",
   "execution_count": 2,
   "metadata": {},
   "outputs": [],
   "source": [
    "def create_dir(label_dir, img_dir, bbox_dir, dest_img_dir, dest_label_dir):\n",
    "    list_dir = list([label_dir, img_dir, bbox_dir, dest_img_dir, dest_label_dir])\n",
    "    for i in list_dir:\n",
    "        if not os.path.exists(i):\n",
    "            os.makedirs(i)\n",
    "            \n",
    "create_dir(label_dir, img_dir, bbox_dir, dest_img_dir, dest_label_dir)"
   ]
  },
  {
   "cell_type": "markdown",
   "metadata": {},
   "source": [
    "# Copy Random non-reapeated Image from Source"
   ]
  },
  {
   "cell_type": "code",
   "execution_count": 3,
   "metadata": {},
   "outputs": [],
   "source": [
    "# number of data to be copied from source\n",
    "n_data = 8\n",
    "# number of agmentation result from 1 data (include original one)\n",
    "n_augment = 2\n",
    "#range of rescale\n",
    "range_scaling = (-0.6, 0.5)\n",
    "img_resize = 480\n",
    "\n",
    "files = os.listdir(src_img_dir)\n",
    "files = [i for i in files if i.split('.')[1] == 'jpg']\n",
    "idx = []\n",
    "for i in range(n_data):\n",
    "    r = random.randint(0,len(files)-1)\n",
    "    if r not in idx: idx.append(r)\n",
    "        \n",
    "for ids in idx:\n",
    "    shutil.copy(src_img_dir+ '/'+ files[ids], img_dir)\n",
    "    shutil.copy(src_label_dir+ '/'+ files[ids].split('.')[0] + '.txt', label_dir)"
   ]
  },
  {
   "cell_type": "markdown",
   "metadata": {},
   "source": [
    "# Create YOLO to BBOX Converter"
   ]
  },
  {
   "cell_type": "code",
   "execution_count": 4,
   "metadata": {},
   "outputs": [],
   "source": [
    "import os\n",
    "from PIL import Image\n",
    "\n",
    "def convert_yolo_to_bbox(data, image_shape):\n",
    "    new_data = []\n",
    "    for line in data:\n",
    "        line = line.split(' ')\n",
    "        line = [float(i) for i in line]\n",
    "        c, center_x, center_y, width, height = line\n",
    "\n",
    "        denorm_width = width * image_shape[0]\n",
    "        denorm_height = height * image_shape[1]\n",
    "\n",
    "        x1, x2 = center_x * image_shape[0] - denorm_width/2 , center_x * image_shape[0] + denorm_width/2\n",
    "        y1, y2 = center_y * image_shape[1] - denorm_height/2, center_y * image_shape[1] + denorm_height/2\n",
    "        \n",
    "        list_bbox = list([round(x1,3), round(y1,3), round(x2,3), round(y2,3), int(c)])      \n",
    "        new_data.append(\" \".join(str(i) for i in list_bbox))\n",
    "    \n",
    "    strings = \"\\n\".join(new_data) \n",
    "    return strings"
   ]
  },
  {
   "cell_type": "markdown",
   "metadata": {},
   "source": [
    "# Create BBOX to YOLO Converter"
   ]
  },
  {
   "cell_type": "code",
   "execution_count": 5,
   "metadata": {},
   "outputs": [],
   "source": [
    "def convert_bbox_to_yolo(data, image_shape):\n",
    "    new_data = []\n",
    "    #convert bbox format to yolo (normalization with image shape)\n",
    "    for bbox in data:\n",
    "        bboxes_ = [float(i) for i in bbox]\n",
    "        x_center_norm = (bboxes_[0]+(bboxes_[2]-bboxes_[0])/2)/image_shape[1]\n",
    "        y_center_norm = (bboxes_[1]+(bboxes_[3]-bboxes_[1])/2)/image_shape[0]\n",
    "        width_norm = (bboxes_[2]-bboxes_[0])/image_shape[1]\n",
    "        height_norm = (bboxes_[3]-bboxes_[1])/image_shape[0]\n",
    "        obj_class = bboxes_[-1]\n",
    "\n",
    "        #create list as yolo format and return as string\n",
    "        list_yolo = list([int(obj_class),round(x_center_norm, 3), round(y_center_norm, 3), round(width_norm, 3), round(height_norm,3)])\n",
    "        new_data.append(\" \".join(str(i) for i in list_yolo))\n",
    "\n",
    "    strings = \"\\n\".join(new_data) \n",
    "    return strings"
   ]
  },
  {
   "cell_type": "markdown",
   "metadata": {},
   "source": [
    "# Create New BBOX label file"
   ]
  },
  {
   "cell_type": "code",
   "execution_count": 6,
   "metadata": {},
   "outputs": [],
   "source": [
    "for file in os.listdir(label_dir):\n",
    "    image = Image.open(img_dir+'\\\\'+file.split('.txt')[0]+'.jpg')\n",
    "    img_size = image.size\n",
    "    \n",
    "    content = label_dir+'//'+file\n",
    "    lines = [line.strip() for line in open(content)]\n",
    "    \n",
    "    strings = convert_yolo_to_bbox(lines, img_size)\n",
    "    \n",
    "    f = open(bbox_dir+'\\\\'+file, \"w\")\n",
    "    f.write(strings)\n",
    "    f.close()"
   ]
  },
  {
   "cell_type": "markdown",
   "metadata": {},
   "source": [
    "# Do Augmentation and Store to Result Directory"
   ]
  },
  {
   "cell_type": "code",
   "execution_count": 7,
   "metadata": {
    "scrolled": true
   },
   "outputs": [
    {
     "name": "stderr",
     "output_type": "stream",
     "text": [
      "D:\\Users\\p61111684\\AppData\\Local\\Continuum\\miniconda3\\envs\\jcop\\lib\\site-packages\\ipykernel_launcher.py:19: DeprecationWarning: `imsave` is deprecated!\n",
      "`imsave` is deprecated in SciPy 1.0.0, and will be removed in 1.2.0.\n",
      "Use ``imageio.imwrite`` instead.\n",
      "D:\\Users\\p61111684\\AppData\\Local\\Continuum\\miniconda3\\envs\\jcop\\lib\\site-packages\\ipykernel_launcher.py:35: DeprecationWarning: `imsave` is deprecated!\n",
      "`imsave` is deprecated in SciPy 1.0.0, and will be removed in 1.2.0.\n",
      "Use ``imageio.imwrite`` instead.\n"
     ]
    }
   ],
   "source": [
    "for file in os.listdir(img_dir):\n",
    "    \n",
    "    for i in range(n_augment):\n",
    "        try:\n",
    "            file_name = file.split('.jpg')[0]\n",
    "            img = cv2.imread(img_dir + '/' + file)[:,:,::-1]\n",
    "            img_size = img.shape[:2]\n",
    "            \n",
    "            file_label = bbox_dir + '/' + file_name + '.txt'\n",
    "            lines = [line.strip() for line in open(file_label)]\n",
    "            bboxes = []\n",
    "            for a in [line.split(' ') for line in lines]:\n",
    "                bboxes.append([float(i) for i in a])\n",
    "            bboxes = np.array(bboxes)\n",
    "            \n",
    "            if i == 0:\n",
    "                img_, bboxes_ = Resize(img_resize)(img.copy(), bboxes.copy())\n",
    "                \n",
    "                scipy.misc.imsave(dest_img_dir + '/' + file_name + '.jpg', img_)\n",
    "                f = open(dest_label_dir + '/' + file_name + '.txt', \"w\")\n",
    "                \n",
    "                str_yolo = convert_bbox_to_yolo(bboxes_,img_size)\n",
    "                f.write(str_yolo)\n",
    "                f.close()\n",
    "                continue\n",
    "            \n",
    "            #augment the images\n",
    "            seq = Sequence([RandomHSV(40, 40, 30),RandomHorizontalFlip(), RandomScale(scale = range_scaling), RandomTranslate(0.15), RandomRotate(10), RandomShear(), Resize(img_resize)])\n",
    "            img_, bboxes_ = seq(img.copy(), bboxes.copy())\n",
    "            img_size = img_.shape[:2]\n",
    "\n",
    "            str_yolo = convert_bbox_to_yolo(bboxes_,img_size)\n",
    "\n",
    "            #save augmented result (image and labels)\n",
    "            scipy.misc.imsave(dest_img_dir + '/' + file_name + '_'+ str(i) +'.jpg', img_)\n",
    "            f = open(dest_label_dir + '/' + file_name + '_' + str(i) +'.txt', \"w\")\n",
    "            f.write(str_yolo)\n",
    "            f.close()\n",
    "\n",
    "        \n",
    "        except:\n",
    "            pass"
   ]
  },
  {
   "cell_type": "code",
   "execution_count": null,
   "metadata": {},
   "outputs": [],
   "source": []
  }
 ],
 "metadata": {
  "kernelspec": {
   "display_name": "Python [conda env:jcop]",
   "language": "python",
   "name": "conda-env-jcop-py"
  },
  "language_info": {
   "codemirror_mode": {
    "name": "ipython",
    "version": 3
   },
   "file_extension": ".py",
   "mimetype": "text/x-python",
   "name": "python",
   "nbconvert_exporter": "python",
   "pygments_lexer": "ipython3",
   "version": "3.6.7"
  }
 },
 "nbformat": 4,
 "nbformat_minor": 4
}
